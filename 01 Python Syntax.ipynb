{
 "cells": [
  {
   "cell_type": "markdown",
   "metadata": {},
   "source": [
    "# Intro. to Python: The Core Operations"
   ]
  },
  {
   "cell_type": "markdown",
   "metadata": {},
   "source": [
    "## Exercises: Using Python as a calculator\n",
    "\n",
    "Using the operators in the table below, ask Python to solve these difficult math equations:\n",
    "\n",
    "|Assign to a Variable | Add  | Subract | Multiply | Divide | Power | Integer Divide | Remainder after Division | \n",
    "|  :---------------:  | :---:| :-----: | :------: | :----: | :---: | :------------: | :----------------------: |\n",
    "|         =           |  +   |    -    |    *     |   /    |   **  |       //       |           %              |"
   ]
  },
  {
   "cell_type": "markdown",
   "metadata": {},
   "source": [
    "1. What is two plus three?"
   ]
  },
  {
   "cell_type": "code",
   "execution_count": null,
   "metadata": {},
   "outputs": [],
   "source": []
  },
  {
   "cell_type": "markdown",
   "metadata": {},
   "source": [
    "2. What is two times three?"
   ]
  },
  {
   "cell_type": "code",
   "execution_count": null,
   "metadata": {},
   "outputs": [],
   "source": []
  },
  {
   "cell_type": "markdown",
   "metadata": {},
   "source": [
    "3. What is two to the third power?"
   ]
  },
  {
   "cell_type": "code",
   "execution_count": null,
   "metadata": {},
   "outputs": [],
   "source": []
  },
  {
   "cell_type": "markdown",
   "metadata": {},
   "source": [
    "4. What is the remainder after dividing 3 from 2?"
   ]
  },
  {
   "cell_type": "code",
   "execution_count": null,
   "metadata": {},
   "outputs": [],
   "source": []
  },
  {
   "cell_type": "markdown",
   "metadata": {},
   "source": [
    "5. Does Python follow the mathematical order of operations (addition and subtraction only after multiplication and division)?"
   ]
  },
  {
   "cell_type": "code",
   "execution_count": null,
   "metadata": {},
   "outputs": [],
   "source": []
  },
  {
   "cell_type": "markdown",
   "metadata": {},
   "source": [
    "6. What is **X** minus 7, if  X equals 5?"
   ]
  },
  {
   "cell_type": "code",
   "execution_count": 1,
   "metadata": {},
   "outputs": [
    {
     "data": {
      "text/plain": [
       "5"
      ]
     },
     "execution_count": 1,
     "metadata": {},
     "output_type": "execute_result"
    }
   ],
   "source": [
    "x = 5\n",
    "x"
   ]
  },
  {
   "cell_type": "code",
   "execution_count": null,
   "metadata": {},
   "outputs": [],
   "source": []
  },
  {
   "cell_type": "markdown",
   "metadata": {},
   "source": [
    "7. What is X minus 7, if X equals 20?"
   ]
  },
  {
   "cell_type": "code",
   "execution_count": null,
   "metadata": {},
   "outputs": [],
   "source": []
  },
  {
   "cell_type": "markdown",
   "metadata": {},
   "source": [
    "8. What is **fruits** to the **vegetables** power, if **fruits** equals 8 and **vegetables** is three times bigger than **fruits**?"
   ]
  },
  {
   "cell_type": "markdown",
   "metadata": {},
   "source": [
    "## Strings\n",
    "Strings are text data.  They can be created with either the quotation marks (e.g. \"Hi!\") or apostrophes (e.g. 'Hi!')"
   ]
  },
  {
   "cell_type": "code",
   "execution_count": 4,
   "metadata": {},
   "outputs": [
    {
     "data": {
      "text/plain": [
       "'Hello, World!'"
      ]
     },
     "execution_count": 4,
     "metadata": {},
     "output_type": "execute_result"
    }
   ],
   "source": [
    "greeting = \"Hello, World!\"\n",
    "greeting"
   ]
  },
  {
   "cell_type": "markdown",
   "metadata": {},
   "source": [
    "While some of the math operators can be used on string data, they do different things in Python:"
   ]
  },
  {
   "cell_type": "markdown",
   "metadata": {},
   "source": [
    "|Assign to a Variable | Append another String | Repeat a number of times |\n",
    "|  :---------------:  | :---:                 | :-----:                  |\n",
    "|         =           |  +                    |    *                     |"
   ]
  },
  {
   "cell_type": "markdown",
   "metadata": {},
   "source": [
    "1. Using the operators, append the greeting and person together..."
   ]
  },
  {
   "cell_type": "code",
   "execution_count": 11,
   "metadata": {},
   "outputs": [],
   "source": [
    "greeting = \"Hello, \"\n",
    "person = \"World!\""
   ]
  },
  {
   "cell_type": "markdown",
   "metadata": {},
   "source": [
    "2. ...then repeat the combined greeting 3 times!"
   ]
  },
  {
   "cell_type": "code",
   "execution_count": null,
   "metadata": {},
   "outputs": [],
   "source": []
  },
  {
   "cell_type": "code",
   "execution_count": 46,
   "metadata": {},
   "outputs": [
    {
     "data": {
      "text/plain": [
       "[]"
      ]
     },
     "execution_count": 46,
     "metadata": {},
     "output_type": "execute_result"
    }
   ],
   "source": [
    "a = []\n",
    "a."
   ]
  },
  {
   "cell_type": "code",
   "execution_count": null,
   "metadata": {},
   "outputs": [],
   "source": []
  },
  {
   "cell_type": "markdown",
   "metadata": {},
   "source": [
    "# Built-In Type Methods\n",
    "\n",
    "As we discussed in the lecture, all Python objects are **Objects**, which means they have **Properties/Attributes** (data) and **Methods** associated with them.  \n",
    "\n",
    "|  Object    | type(Object)  |  Example Method  |  Example Attribute  | \n",
    "| :----:     | :----------:  |  :------------:  |  :---------------:  |\n",
    "| \"Hello\"    |     str       |     lower()      |                     |\n",
    "|    42      |     int       |    bit_length()  |     numerator       |\n",
    "|   3.14     |    float      |    is_integer()  |     imag            |\n",
    "| ['a', 'b'] |  list         |     append()     |                     |\n",
    "\n",
    "\n",
    "These are accessible via the **. (dot)**, and an object's methods can be browsed in the notebook by typing the **Tab** key after the dot.\n",
    "\n",
    "For example, here we use a **string** **Class**'s *title()* method to capitalize the first letter of each word of the film title:"
   ]
  },
  {
   "cell_type": "code",
   "execution_count": 49,
   "metadata": {},
   "outputs": [
    {
     "data": {
      "text/plain": [
       "'the lion king'"
      ]
     },
     "execution_count": 49,
     "metadata": {},
     "output_type": "execute_result"
    }
   ],
   "source": [
    "film = 'the lion king'\n",
    "film"
   ]
  },
  {
   "cell_type": "code",
   "execution_count": 51,
   "metadata": {},
   "outputs": [
    {
     "data": {
      "text/plain": [
       "str"
      ]
     },
     "execution_count": 51,
     "metadata": {},
     "output_type": "execute_result"
    }
   ],
   "source": [
    "type(film)"
   ]
  },
  {
   "cell_type": "code",
   "execution_count": 50,
   "metadata": {},
   "outputs": [
    {
     "data": {
      "text/plain": [
       "'The Lion King'"
      ]
     },
     "execution_count": 50,
     "metadata": {},
     "output_type": "execute_result"
    }
   ],
   "source": [
    "bigfilm = film.title()\n",
    "bigfilm"
   ]
  },
  {
   "cell_type": "markdown",
   "metadata": {},
   "source": [
    "## Exercises: Strings"
   ]
  },
  {
   "cell_type": "markdown",
   "metadata": {},
   "source": [
    "Use the string methods to modify the following strings to the versions described below."
   ]
  },
  {
   "cell_type": "markdown",
   "metadata": {},
   "source": [
    "### Changing Strings\n",
    "\n",
    "Use the **strip**, **swapcase**, **title**, **lower**, **upper**, and **zfill** methods, or the **\\+** or **\\*** operators, to perform the following modifications:"
   ]
  },
  {
   "cell_type": "markdown",
   "metadata": {},
   "source": [
    "**\"I am angry\"** -> **\"I AM ANGRY\"**"
   ]
  },
  {
   "cell_type": "code",
   "execution_count": null,
   "metadata": {},
   "outputs": [],
   "source": []
  },
  {
   "cell_type": "markdown",
   "metadata": {},
   "source": [
    "**\"the lion king\"** -> **\"The Lion King\"**"
   ]
  },
  {
   "cell_type": "code",
   "execution_count": null,
   "metadata": {},
   "outputs": [],
   "source": []
  },
  {
   "cell_type": "markdown",
   "metadata": {},
   "source": [
    "**He said, \"Are you okay?\"** -> **hE SAID, \"aRE YOU OKAY?\"**"
   ]
  },
  {
   "cell_type": "code",
   "execution_count": null,
   "metadata": {},
   "outputs": [],
   "source": []
  },
  {
   "cell_type": "markdown",
   "metadata": {},
   "source": [
    "**three** -> **threethreethree**"
   ]
  },
  {
   "cell_type": "code",
   "execution_count": null,
   "metadata": {},
   "outputs": [],
   "source": []
  },
  {
   "cell_type": "markdown",
   "metadata": {},
   "source": [
    "### Searching Substrings\n",
    "\n",
    "Use the **replace**, **count**, and **index** methods to search for a substring and answer the following questions using the example sentence below:\n",
    "\n",
    "```python\n",
    "sentence = \"The dog ate my watermelon when we were digging at the beach!\"\n",
    "```"
   ]
  },
  {
   "cell_type": "code",
   "execution_count": 27,
   "metadata": {},
   "outputs": [],
   "source": [
    "sentence = \"The dog ate my watermelon when we were digging at the beach!\""
   ]
  },
  {
   "cell_type": "markdown",
   "metadata": {},
   "source": [
    "How many \"w\" characters are in this sentence?"
   ]
  },
  {
   "cell_type": "code",
   "execution_count": null,
   "metadata": {},
   "outputs": [],
   "source": []
  },
  {
   "cell_type": "markdown",
   "metadata": {},
   "source": [
    "What character index does the word \"watermelon\" start on? (the first? The tenth?)"
   ]
  },
  {
   "cell_type": "code",
   "execution_count": null,
   "metadata": {},
   "outputs": [],
   "source": []
  },
  {
   "cell_type": "markdown",
   "metadata": {},
   "source": [
    "Replace the word \"dog\" in the sentence with the word \"cat\""
   ]
  },
  {
   "cell_type": "code",
   "execution_count": null,
   "metadata": {},
   "outputs": [],
   "source": []
  },
  {
   "cell_type": "markdown",
   "metadata": {},
   "source": [
    "### Formatting Strings\n",
    "\n",
    "The most common method used for strings is the **format()** methods, so it deserves special mention.  It is used to insert data into a string.  It is similar to the **replace()** method but only replaces curly braces **{}**, but it is *way* more powerful.  In fact, there is a whole web page dedicated to showing all the ways you can use it: https://pyformat.info/\n",
    "\n",
    "```python\n",
    "label_fmt = \"Sample {}: Vial {}\"\n",
    "label_fmt.format(3, 4)\n",
    ">> \"Sample 3: Vial 4\"\n",
    "```"
   ]
  },
  {
   "cell_type": "markdown",
   "metadata": {},
   "source": [
    "Using the **format()** method, make the following three sentences out of the original sentence below:"
   ]
  },
  {
   "cell_type": "code",
   "execution_count": 52,
   "metadata": {},
   "outputs": [],
   "source": [
    "sentence = \"I bought {} dogs.\""
   ]
  },
  {
   "cell_type": "markdown",
   "metadata": {},
   "source": [
    "1. \"I bought 3 dogs.\""
   ]
  },
  {
   "cell_type": "code",
   "execution_count": null,
   "metadata": {},
   "outputs": [],
   "source": []
  },
  {
   "cell_type": "markdown",
   "metadata": {},
   "source": [
    "2. \"Wendy bought 5 dogs.\""
   ]
  },
  {
   "cell_type": "code",
   "execution_count": null,
   "metadata": {},
   "outputs": [],
   "source": []
  },
  {
   "cell_type": "markdown",
   "metadata": {},
   "source": [
    "3. \"George bought 700 dogs.\""
   ]
  },
  {
   "cell_type": "code",
   "execution_count": null,
   "metadata": {},
   "outputs": [],
   "source": []
  },
  {
   "cell_type": "markdown",
   "metadata": {},
   "source": [
    "## Lists\n",
    "\n",
    "Lists represent sequences of data.  They are made with either the square brackets **[]** or the **list()** constructor function.  They can be appended to, just like strings, but they can contain any kind of data--numbers, strings, even other lists.  Their methods mostly revolve around inserting and removing things:\n",
    "\n",
    "| Method   |  What it Does                                  | \n",
    "| :-----:  |  :----------:                                  |\n",
    "| append() | Appends an item to the end of the list.        | \n",
    "| extend() | Appends several items to the end of the list.  | \n",
    "| remove() | Removes an item from the list.                 |\n",
    "| clear()  | Removes everything from the list.              | \n",
    "| copy()   | Returns a copy of the list.                    |\n",
    "| count()  | Removes a specified item from the list         | \n",
    "| sort()   | Sorts the list.                                |\n",
    "| reverse()| Reverses the order of items in the list.       |"
   ]
  },
  {
   "cell_type": "markdown",
   "metadata": {},
   "source": [
    "**Example**\n",
    "\n",
    "Here is a list of colors:"
   ]
  },
  {
   "cell_type": "code",
   "execution_count": 56,
   "metadata": {},
   "outputs": [
    {
     "data": {
      "text/plain": [
       "['Red', 'Blue', 'Yello']"
      ]
     },
     "execution_count": 56,
     "metadata": {},
     "output_type": "execute_result"
    }
   ],
   "source": [
    "colors = ['Red', 'Blue', 'Yello']\n",
    "colors"
   ]
  },
  {
   "cell_type": "markdown",
   "metadata": {},
   "source": [
    "Let's append the color 'Yellow' to the list:"
   ]
  },
  {
   "cell_type": "code",
   "execution_count": 57,
   "metadata": {},
   "outputs": [
    {
     "data": {
      "text/plain": [
       "['Red', 'Blue', 'Yello', 'Yellow']"
      ]
     },
     "execution_count": 57,
     "metadata": {},
     "output_type": "execute_result"
    }
   ],
   "source": [
    "colors.append('Yellow')\n",
    "colors"
   ]
  },
  {
   "cell_type": "markdown",
   "metadata": {},
   "source": [
    "*Note*: If you run the above code multiple times, 'Yellow' will be appended to the list multiple times!"
   ]
  },
  {
   "cell_type": "markdown",
   "metadata": {},
   "source": [
    "### List Method Exercises"
   ]
  },
  {
   "cell_type": "markdown",
   "metadata": {},
   "source": [
    "1. Make a list of 3 movie titles."
   ]
  },
  {
   "cell_type": "code",
   "execution_count": null,
   "metadata": {},
   "outputs": [],
   "source": []
  },
  {
   "cell_type": "markdown",
   "metadata": {},
   "source": [
    "2. You have a list of subjects for your experiment, and you want to add another one to that list!  How could you do it?"
   ]
  },
  {
   "cell_type": "code",
   "execution_count": 40,
   "metadata": {},
   "outputs": [],
   "source": [
    "subjects = ['NOP234', 'GHS673', 'JGL212']\n",
    "new_subject = 'ASF193'"
   ]
  },
  {
   "cell_type": "code",
   "execution_count": null,
   "metadata": {},
   "outputs": [],
   "source": []
  },
  {
   "cell_type": "markdown",
   "metadata": {},
   "source": [
    "3. Now, a bunch of new subjects appeared!  How do you extend/append them to the main list?"
   ]
  },
  {
   "cell_type": "code",
   "execution_count": 58,
   "metadata": {},
   "outputs": [],
   "source": [
    "subjects = ['NOP234', 'GHS673', 'JGL212']\n",
    "new_subjects = ['ASF193', 'THW994', 'JJZ231']"
   ]
  },
  {
   "cell_type": "code",
   "execution_count": null,
   "metadata": {},
   "outputs": [],
   "source": []
  },
  {
   "cell_type": "markdown",
   "metadata": {},
   "source": [
    "4. Please sort those subjects alphabetically.  It looks better that way, doesn't it?"
   ]
  },
  {
   "cell_type": "code",
   "execution_count": 2,
   "metadata": {},
   "outputs": [],
   "source": [
    "subjects = ['NOP234', 'GHS673', 'jGL212', 'ASF193', 'THW994', 'JJZ231']"
   ]
  },
  {
   "cell_type": "code",
   "execution_count": null,
   "metadata": {},
   "outputs": [],
   "source": []
  },
  {
   "cell_type": "markdown",
   "metadata": {},
   "source": [
    "5. Oh, no, 'JGL202' was a terrible subject, he intentionally ruined your study.  Well, there's no way you're keeping him.  How do you remove him from the list?"
   ]
  },
  {
   "cell_type": "code",
   "execution_count": 1,
   "metadata": {},
   "outputs": [],
   "source": [
    "subjects = ['NOP234', 'GHS673', 'JGL212', 'ASF193', 'THW994', 'JJZ231']"
   ]
  },
  {
   "cell_type": "markdown",
   "metadata": {},
   "source": [
    "## Further Learning Resources"
   ]
  },
  {
   "cell_type": "markdown",
   "metadata": {},
   "source": [
    "  - Official Documentation on String Methods: https://docs.python.org/3/library/stdtypes.html#string-methods\n",
    "  \n",
    "  - Online Tutorial on Python Strings: https://realpython.com/python-strings/\n",
    "  \n",
    "  - Official Documentation on List Methods: https://docs.python.org/3/library/stdtypes.html#lists\n",
    "  \n",
    "  - Online Tutorial on Python Lists: https://realpython.com/python-lists-tuples/\n",
    "  \n",
    "  "
   ]
  },
  {
   "cell_type": "markdown",
   "metadata": {},
   "source": [
    "## Extra Exercises\n",
    "\n",
    "If you'd like to do some more, here they are!\n",
    "\n",
    "\n",
    "1. You want to label your figure title with the subject code, and the subject code changes depending on which subject is being shown!  How could you stick a subject's name in your title string?"
   ]
  },
  {
   "cell_type": "code",
   "execution_count": 4,
   "metadata": {},
   "outputs": [],
   "source": [
    "subject = 'NOP234'\n",
    "title = \"Mean Values of SUBJECT NAME's data over Time\""
   ]
  },
  {
   "cell_type": "code",
   "execution_count": null,
   "metadata": {},
   "outputs": [],
   "source": []
  },
  {
   "cell_type": "markdown",
   "metadata": {},
   "source": [
    "2. If you had formatted your title string in the following way, though, another string method would be more useful.  Which method would you use for this title:"
   ]
  },
  {
   "cell_type": "code",
   "execution_count": 3,
   "metadata": {},
   "outputs": [],
   "source": [
    "subject1 = 'NOP234'\n",
    "subject2 = 'GHS673'\n",
    "title = \"Performance Comparison between Subjects {} and {}\""
   ]
  },
  {
   "cell_type": "code",
   "execution_count": null,
   "metadata": {},
   "outputs": [],
   "source": []
  },
  {
   "cell_type": "markdown",
   "metadata": {},
   "source": [
    "3. The conference says it only takes abstracts that have a maximum word count of 100 words.  Did our abstract make the cut?  \n",
    "\n",
    "*Hint: the len() function is useful here*"
   ]
  },
  {
   "cell_type": "code",
   "execution_count": 6,
   "metadata": {},
   "outputs": [],
   "source": [
    "abstract = \"\"\"We analyze the locomotor behavior of the rat during exploration, and show that digitally collected data (time series of positions) provide a sufftcient basis for establishing that the rat uses several distinct modes of motion (first, second, third, and sometimes fourth gear). The distinction between these modes is obtained by first segmenting the time series into sequences of data points occurring between arrests (as ascertained within the resolution of the data acquisition system). The statistical distribution of the maximal amount of motion occurring within each of these episodes is then analyzed and shown to be multi modal. This enables us to decompose motion into distinct modes.\"\"\"\n"
   ]
  },
  {
   "cell_type": "markdown",
   "metadata": {},
   "source": [
    "Oh, wait, now that I look closer, it actually says that it's a maximum of 100 **unique** words--duplicated words don't count.  How many unique words do we have in our abstract?  (What a strange conference...)\n",
    "\n",
    "\n",
    "*Hint: Try this out with the **set()** class.*"
   ]
  },
  {
   "cell_type": "code",
   "execution_count": null,
   "metadata": {},
   "outputs": [],
   "source": []
  }
 ],
 "metadata": {
  "kernelspec": {
   "display_name": "Python 3",
   "language": "python",
   "name": "python3"
  },
  "language_info": {
   "codemirror_mode": {
    "name": "ipython",
    "version": 3
   },
   "file_extension": ".py",
   "mimetype": "text/x-python",
   "name": "python",
   "nbconvert_exporter": "python",
   "pygments_lexer": "ipython3",
   "version": "3.6.5"
  }
 },
 "nbformat": 4,
 "nbformat_minor": 2
}
