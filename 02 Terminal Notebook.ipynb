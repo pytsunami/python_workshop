{
 "cells": [
  {
   "cell_type": "markdown",
   "metadata": {},
   "source": [
    "# Intro. to the Terminal: Navigating the File System"
   ]
  },
  {
   "cell_type": "markdown",
   "metadata": {},
   "source": [
    "## Tutorial"
   ]
  },
  {
   "cell_type": "markdown",
   "metadata": {},
   "source": [
    "### What is the terminal?\n",
    "\n",
    "The terminal (a.k.a. the \"command line\") command line allows a user to navigate the file system as well as run all kinds of built-in programs.  It's essential to use when you want to run Python scripts, and is valuable in many other areas of computing as well!  In Unix, the command line interface is called **Bash**, and the shell prompt is the \"\\$\" symbol. \n",
    "\n",
    "For example, the line below will run a python script, if the script is available in the directory it is currently in:\n",
    "```bash\n",
    "python my_analysis.py\n",
    "```"
   ]
  },
  {
   "cell_type": "markdown",
   "metadata": {},
   "source": [
    "Commands Reviewed Here:\n",
    "\n",
    "| Command | What it does  |  Usage Example |\n",
    "| :-----: | :-----------: |  :------------------------: |\n",
    "|   **pwd**   | print the current directory (e.g. the \"working directory\" | pwd                   |\n",
    "|   **ls**    | list the files/directories the current directory          | ls                    |\n",
    "|   **cd**    | change the current directory to something else            | cd Desktop            |\n",
    "| **mkdir**   | make a new directory                                      | mkdir NewFolder       |\n",
    "| **python**  | start the python interpreter                              |  python               |\n",
    "| **python**  | run a python script                                       | python my_analysis.py | \n"
   ]
  },
  {
   "cell_type": "markdown",
   "metadata": {},
   "source": [
    "## How to navigate through the File System: Detailed Examples\n",
    "\n",
    "### Listing Files and Folders\n",
    "\n",
    "The shell command *ls* is used to list the contents of directories. If no arguments are given, it will list the contents of the current working directory."
   ]
  },
  {
   "cell_type": "code",
   "execution_count": 17,
   "metadata": {},
   "outputs": [
    {
     "name": "stdout",
     "output_type": "stream",
     "text": [
      "'01 Python Syntax.ipynb'       old\n",
      "'02 Terminal Notebook.ipynb'   SBM-for-correlation-based-networks-master.zip\n",
      " fruit\t\t\t       tsunami\n",
      "'Notebook exercises'\t       vegetables\n"
     ]
    }
   ],
   "source": [
    "!ls"
   ]
  },
  {
   "cell_type": "markdown",
   "metadata": {},
   "source": [
    "__Printing the Working Directory__\n",
    "\n",
    "The shell command *pwd* displays the file path from the root directory to the current working directory. "
   ]
  },
  {
   "cell_type": "code",
   "execution_count": 21,
   "metadata": {},
   "outputs": [
    {
     "name": "stdout",
     "output_type": "stream",
     "text": [
      "/home/nickdg/Desktop\n"
     ]
    }
   ],
   "source": [
    "!pwd"
   ]
  },
  {
   "cell_type": "markdown",
   "metadata": {},
   "source": [
    "### Making and Changing Directories\n",
    "\n",
    "The shell command mkdir can be used to make a new directory in the filesystem according to its argument.\n",
    "The shell command, cd can be used to move throughout the filesystem of a computer."
   ]
  },
  {
   "cell_type": "code",
   "execution_count": 19,
   "metadata": {},
   "outputs": [
    {
     "name": "stdout",
     "output_type": "stream",
     "text": [
      "mkdir: cannot create directory ‘vegetables’: File exists\n"
     ]
    }
   ],
   "source": [
    "!mkdir fruits vegetables"
   ]
  },
  {
   "cell_type": "code",
   "execution_count": 20,
   "metadata": {},
   "outputs": [
    {
     "name": "stdout",
     "output_type": "stream",
     "text": [
      "'01 Python Syntax.ipynb'       old\n",
      "'02 Terminal Notebook.ipynb'   SBM-for-correlation-based-networks-master.zip\n",
      " fruit\t\t\t       tsunami\n",
      " fruits\t\t\t       vegetables\n",
      "'Notebook exercises'\n"
     ]
    }
   ],
   "source": [
    "!ls"
   ]
  },
  {
   "cell_type": "markdown",
   "metadata": {},
   "source": [
    "## Exercises"
   ]
  },
  {
   "cell_type": "markdown",
   "metadata": {},
   "source": [
    "1. Print the current working directory ."
   ]
  },
  {
   "cell_type": "code",
   "execution_count": null,
   "metadata": {},
   "outputs": [],
   "source": []
  },
  {
   "cell_type": "markdown",
   "metadata": {},
   "source": [
    "2. What files are in the current directory?"
   ]
  },
  {
   "cell_type": "code",
   "execution_count": null,
   "metadata": {},
   "outputs": [],
   "source": []
  },
  {
   "cell_type": "markdown",
   "metadata": {},
   "source": [
    "3. Create a new folder called \"MyProject\" on your Desktop.  Inside it, create two new folders, one called \"scripts\" and another called \"data\"."
   ]
  },
  {
   "cell_type": "code",
   "execution_count": null,
   "metadata": {},
   "outputs": [],
   "source": []
  },
  {
   "cell_type": "markdown",
   "metadata": {},
   "source": [
    "## Additional Resources"
   ]
  },
  {
   "cell_type": "markdown",
   "metadata": {},
   "source": [
    "  - Terminal tutorial: http://linuxcommand.org/lc3_lts0020.php\n",
    "  - Cheat sheet with useful commands in different terminals: https://raw.githubusercontent.com/mohammadbashiri/MPI-python-workshop-2019/master/day1/ShellCommands.jpg\n",
    "  "
   ]
  },
  {
   "cell_type": "markdown",
   "metadata": {},
   "source": [
    "## The Filesystem: Extra Commands\n",
    "\n",
    "Below are some extra examples of things you can do in the terminal.  It's a very powerful tool!"
   ]
  },
  {
   "cell_type": "markdown",
   "metadata": {},
   "source": [
    "### Rename your folders and files"
   ]
  },
  {
   "cell_type": "code",
   "execution_count": 15,
   "metadata": {},
   "outputs": [],
   "source": [
    "!mv fruits/ fruit/"
   ]
  },
  {
   "cell_type": "code",
   "execution_count": 16,
   "metadata": {},
   "outputs": [
    {
     "name": "stdout",
     "output_type": "stream",
     "text": [
      "'01 Python Syntax.ipynb'       old\n",
      "'02 Terminal Notebook.ipynb'   SBM-for-correlation-based-networks-master.zip\n",
      " fruit\t\t\t       tsunami\n",
      "'Notebook exercises'\t       vegetables\n"
     ]
    }
   ],
   "source": [
    "!ls"
   ]
  },
  {
   "cell_type": "markdown",
   "metadata": {},
   "source": [
    "### Creating Content\n",
    "\n",
    "The > symbol is used to redirect output by taking the output from the command on the left and passing as input to the file on the right.  Here, we put some Python code into a file called \"test.py\""
   ]
  },
  {
   "cell_type": "code",
   "execution_count": 22,
   "metadata": {},
   "outputs": [],
   "source": [
    "!echo \"print('I love terminal!')\" > test.py"
   ]
  },
  {
   "cell_type": "markdown",
   "metadata": {},
   "source": [
    "How to read the content of the file\n",
    "The cat shell command displays the contents of one or more files to the terminal."
   ]
  },
  {
   "cell_type": "code",
   "execution_count": 28,
   "metadata": {},
   "outputs": [
    {
     "name": "stdout",
     "output_type": "stream",
     "text": [
      "print('I love terminal!') \n"
     ]
    }
   ],
   "source": [
    "!cat test.py"
   ]
  },
  {
   "cell_type": "markdown",
   "metadata": {},
   "source": [
    "To run python file in terminal"
   ]
  },
  {
   "cell_type": "code",
   "execution_count": 29,
   "metadata": {},
   "outputs": [
    {
     "name": "stdout",
     "output_type": "stream",
     "text": [
      "I love terminal!\n"
     ]
    }
   ],
   "source": [
    "!python test.py"
   ]
  },
  {
   "cell_type": "markdown",
   "metadata": {},
   "source": [
    "### Move folders and files\n",
    "\n",
    "Files can be moved using the mv shell command."
   ]
  },
  {
   "cell_type": "code",
   "execution_count": 31,
   "metadata": {},
   "outputs": [],
   "source": [
    "!mv test.py /fruit/"
   ]
  },
  {
   "cell_type": "code",
   "execution_count": 33,
   "metadata": {},
   "outputs": [
    {
     "name": "stdout",
     "output_type": "stream",
     "text": [
      "fruit\n",
      "vegetables\n"
     ]
    }
   ],
   "source": [
    "!ls"
   ]
  },
  {
   "cell_type": "code",
   "execution_count": 40,
   "metadata": {},
   "outputs": [
    {
     "name": "stdout",
     "output_type": "stream",
     "text": [
      "D:\\Projects\\Python_Copen\\test_folder\\fruit\n"
     ]
    }
   ],
   "source": [
    "%cd fruit/"
   ]
  },
  {
   "cell_type": "code",
   "execution_count": 42,
   "metadata": {},
   "outputs": [
    {
     "name": "stdout",
     "output_type": "stream",
     "text": [
      " Volume in drive D is DATA\n",
      " Volume Serial Number is 6D81-6B8F\n",
      "\n",
      " Directory of D:\\Projects\\Python_Copen\\test_folder\\fruit\n",
      "\n",
      "04/03/2019  05:20 PM    <DIR>          .\n",
      "04/03/2019  05:20 PM    <DIR>          ..\n",
      "               0 File(s)              0 bytes\n",
      "               2 Dir(s)  428,717,535,232 bytes free\n"
     ]
    }
   ],
   "source": [
    "%ls"
   ]
  }
 ],
 "metadata": {
  "kernelspec": {
   "display_name": "Python 3",
   "language": "python",
   "name": "python3"
  },
  "language_info": {
   "codemirror_mode": {
    "name": "ipython",
    "version": 3
   },
   "file_extension": ".py",
   "mimetype": "text/x-python",
   "name": "python",
   "nbconvert_exporter": "python",
   "pygments_lexer": "ipython3",
   "version": "3.6.5"
  }
 },
 "nbformat": 4,
 "nbformat_minor": 2
}
