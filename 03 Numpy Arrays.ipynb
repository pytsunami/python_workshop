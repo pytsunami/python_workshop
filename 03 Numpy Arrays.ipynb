{
  "nbformat": 4,
  "nbformat_minor": 0,
  "metadata": {
    "colab": {
      "name": "Copy of Vectorization.ipynb",
      "version": "0.3.2",
      "provenance": [],
      "collapsed_sections": []
    },
    "kernelspec": {
      "display_name": "Python 3",
      "language": "python",
      "name": "python3"
    }
  },
  "cells": [
    {
      "metadata": {
        "id": "dnw0a9z4Z8Yg",
        "colab_type": "code",
        "colab": {}
      },
      "cell_type": "code",
      "source": [
        "import numpy as np"
      ],
      "execution_count": 0,
      "outputs": []
    },
    {
      "metadata": {
        "id": "JeyJzQJEZ8Yo",
        "colab_type": "text"
      },
      "cell_type": "markdown",
      "source": [
        "## Arrays and Vectorization\n",
        "\n",
        "**Arrays** are sequences of same-type data points (most-often numbers).  Numpy allows us to work with the sequence without writing a for-loop, using a technique called **vectorization**.  \n",
        "\n",
        "Besides an **array()** class, Numpy also includes a lot of math functions, which makes analysis much easier.  Let's try some out!"
      ]
    },
    {
      "metadata": {
        "id": "1iadoTdTZ8Yp",
        "colab_type": "text"
      },
      "cell_type": "markdown",
      "source": [
        "## Numpy Exercises"
      ]
    },
    {
      "metadata": {
        "id": "TiadUOo7Z8Y9",
        "colab_type": "text"
      },
      "cell_type": "markdown",
      "source": [
        "### Building Arrays\n",
        "\n",
        "Numpy has some convenient array-building functions as well.  Some commonly-used are examples are **arange()**, **linspace()**, **zeros()**, and the random number generation functions in **random**.\n",
        "\n",
        "| function | Purpose |  Example |\n",
        "| :-----------: | :-------------: |\n",
        "| **np.arange()**                  | Makes an array with all the integers between two values | np.arange(2, 7) |\n",
        "| **np.linspace()**               | Makes a specific-length array |  np.linspace(2, 3, 10) |\n",
        "| **np.zeros()**                    | Makes an array of all zeros | np.zeros(5) |\n",
        "| **np.ones()**                     | Makes an array of all ones | np.ones(3) |\n",
        "| **np.random.random()** | Makes an array of random numbers | np.random.random(100) |\n",
        "| **np.random.randn()**     | Makes an array of normally-distributed random numbers | np.random.randn(100) |\n"
      ]
    },
    {
      "metadata": {
        "id": "yhtqOOlKZ8ZC",
        "colab_type": "text"
      },
      "cell_type": "markdown",
      "source": [
        "1. Make an array containing the numbers 1 to 15."
      ]
    },
    {
      "metadata": {
        "id": "lzwPrnZcZ8ZE",
        "colab_type": "code",
        "colab": {}
      },
      "cell_type": "code",
      "source": [
        ""
      ],
      "execution_count": 0,
      "outputs": []
    },
    {
      "metadata": {
        "id": "15ZzOLSPZ8ZI",
        "colab_type": "text"
      },
      "cell_type": "markdown",
      "source": [
        "2. Make an array containing 20 zeros."
      ]
    },
    {
      "metadata": {
        "id": "eNGUx1K0Z8ZI",
        "colab_type": "code",
        "colab": {}
      },
      "cell_type": "code",
      "source": [
        ""
      ],
      "execution_count": 0,
      "outputs": []
    },
    {
      "metadata": {
        "id": "TjRMDeh1Z8ZL",
        "colab_type": "text"
      },
      "cell_type": "markdown",
      "source": [
        "3. Make an array contain 20 ones!"
      ]
    },
    {
      "metadata": {
        "id": "J3Y7BeuYZ8ZM",
        "colab_type": "code",
        "colab": {}
      },
      "cell_type": "code",
      "source": [
        ""
      ],
      "execution_count": 0,
      "outputs": []
    },
    {
      "metadata": {
        "id": "dvzWUJS_Z8ZO",
        "colab_type": "text"
      },
      "cell_type": "markdown",
      "source": [
        "4. Generate an array of 10 random numbers from Numpy's **random** submodule, using any function you want."
      ]
    },
    {
      "metadata": {
        "id": "_W3Xjv_BZ8ZP",
        "colab_type": "code",
        "colab": {}
      },
      "cell_type": "code",
      "source": [
        ""
      ],
      "execution_count": 0,
      "outputs": []
    },
    {
      "metadata": {
        "id": "hidaeheydcnI",
        "colab_type": "text"
      },
      "cell_type": "markdown",
      "source": [
        "## Statistics Methods on Arrays\n",
        "\n",
        "Arrays have many useful math methods.  For example, to get the mean of an array of numbers:\n",
        "\n",
        "```python\n",
        "data = np.random.random(100)\n",
        "data.mean()\n",
        "```"
      ]
    },
    {
      "metadata": {
        "id": "MGk0swf7d8v2",
        "colab_type": "text"
      },
      "cell_type": "markdown",
      "source": [
        "**Exercise**: Calculate the statistics on the following numbers:"
      ]
    },
    {
      "metadata": {
        "id": "D1Y4IcKrdvUS",
        "colab_type": "code",
        "colab": {
          "base_uri": "https://localhost:8080/",
          "height": 34
        },
        "outputId": "5298642f-ebaa-49e1-b231-58bd624e5706"
      },
      "cell_type": "code",
      "source": [
        "data = np.arange(2, 7)\n",
        "data"
      ],
      "execution_count": 3,
      "outputs": [
        {
          "output_type": "execute_result",
          "data": {
            "text/plain": [
              "array([2, 3, 4, 5, 6])"
            ]
          },
          "metadata": {
            "tags": []
          },
          "execution_count": 3
        }
      ]
    },
    {
      "metadata": {
        "id": "JM-X308-Z8ZS",
        "colab_type": "text"
      },
      "cell_type": "markdown",
      "source": [
        "1. Get the mean of the data."
      ]
    },
    {
      "metadata": {
        "id": "pbzT3Zh4Z8ZS",
        "colab_type": "code",
        "colab": {}
      },
      "cell_type": "code",
      "source": [
        ""
      ],
      "execution_count": 0,
      "outputs": []
    },
    {
      "metadata": {
        "id": "gbsNfpFZZ8ZW",
        "colab_type": "text"
      },
      "cell_type": "markdown",
      "source": [
        "2. What is the sum of the data?"
      ]
    },
    {
      "metadata": {
        "id": "aXvRm3hGgpwK",
        "colab_type": "code",
        "colab": {}
      },
      "cell_type": "code",
      "source": [
        ""
      ],
      "execution_count": 0,
      "outputs": []
    },
    {
      "metadata": {
        "id": "eJWqrZG1Z8ZX",
        "colab_type": "text"
      },
      "cell_type": "markdown",
      "source": [
        "3. The maximum of the data?"
      ]
    },
    {
      "metadata": {
        "id": "qSnBsjJXgtd-",
        "colab_type": "code",
        "colab": {}
      },
      "cell_type": "code",
      "source": [
        ""
      ],
      "execution_count": 0,
      "outputs": []
    },
    {
      "metadata": {
        "id": "KysuOALKZ8ZZ",
        "colab_type": "text"
      },
      "cell_type": "markdown",
      "source": [
        "4. The standard deviation of the data?"
      ]
    },
    {
      "metadata": {
        "id": "LMjhsHzlZ8Za",
        "colab_type": "code",
        "colab": {}
      },
      "cell_type": "code",
      "source": [
        ""
      ],
      "execution_count": 0,
      "outputs": []
    },
    {
      "metadata": {
        "id": "lVjmHfdIeaT3",
        "colab_type": "text"
      },
      "cell_type": "markdown",
      "source": [
        "## Statistics Functions on Arrays\n",
        "\n",
        "Numpy also has many useful statistics **functions**.  These take an array as an input and can be found inside the **np** library.  Sometimes, the same functionality can be found both as a Numpy function  and an array method, giving you the choice of how you'd like to use it.  \n",
        "\n",
        "\n",
        "For example, the following **method**:\n",
        "\n",
        "\n",
        "```python\n",
        "data = np.random.random(100)\n",
        "data.mean()\n",
        "```\n",
        "\n",
        "can also be used as a **function**:\n",
        "\n",
        "\n",
        "```python\n",
        "data = np.random.random(100)\n",
        "np.mean(data)\n",
        "```"
      ]
    },
    {
      "metadata": {
        "colab_type": "text",
        "id": "dvxWENoKfU63"
      },
      "cell_type": "markdown",
      "source": [
        "**Exercise**: Calculate the statistics on the following numbers, this time using the **function** version of the previous methods."
      ]
    },
    {
      "metadata": {
        "colab_type": "code",
        "outputId": "5298642f-ebaa-49e1-b231-58bd624e5706",
        "id": "zK-gBedWfU66",
        "colab": {
          "base_uri": "https://localhost:8080/",
          "height": 34
        }
      },
      "cell_type": "code",
      "source": [
        "data = np.arange(2, 7)\n",
        "data"
      ],
      "execution_count": 0,
      "outputs": [
        {
          "output_type": "execute_result",
          "data": {
            "text/plain": [
              "array([2, 3, 4, 5, 6])"
            ]
          },
          "metadata": {
            "tags": []
          },
          "execution_count": 3
        }
      ]
    },
    {
      "metadata": {
        "colab_type": "text",
        "id": "wU9eR-g3fU7C"
      },
      "cell_type": "markdown",
      "source": [
        "1. Get the mean of the data."
      ]
    },
    {
      "metadata": {
        "colab_type": "code",
        "id": "1jPswldbfU7E",
        "colab": {}
      },
      "cell_type": "code",
      "source": [
        ""
      ],
      "execution_count": 0,
      "outputs": []
    },
    {
      "metadata": {
        "colab_type": "text",
        "id": "AGlnNDHIfU7G"
      },
      "cell_type": "markdown",
      "source": [
        "2. What is the sum of the data?"
      ]
    },
    {
      "metadata": {
        "colab_type": "code",
        "id": "APSVzGrufU7I",
        "colab": {}
      },
      "cell_type": "code",
      "source": [
        ""
      ],
      "execution_count": 0,
      "outputs": []
    },
    {
      "metadata": {
        "id": "EOLmR39hg-_d",
        "colab_type": "text"
      },
      "cell_type": "markdown",
      "source": [
        "3. What is the minimum of the data?"
      ]
    },
    {
      "metadata": {
        "id": "fuNClX8jhF2D",
        "colab_type": "code",
        "colab": {}
      },
      "cell_type": "code",
      "source": [
        ""
      ],
      "execution_count": 0,
      "outputs": []
    },
    {
      "metadata": {
        "colab_type": "text",
        "id": "yHW6AmYRfU7J"
      },
      "cell_type": "markdown",
      "source": [
        "4. The standard deviation?"
      ]
    },
    {
      "metadata": {
        "colab_type": "code",
        "id": "nEBQ9LMifU7K",
        "colab": {}
      },
      "cell_type": "code",
      "source": [
        ""
      ],
      "execution_count": 0,
      "outputs": []
    },
    {
      "metadata": {
        "id": "sXa5LJR3fkms",
        "colab_type": "text"
      },
      "cell_type": "markdown",
      "source": [
        "## Arithmetic with Arrays\n",
        "\n",
        "Arrays can also be added, subtracted, multiplied, and divided.  \n",
        "\n",
        "For example, to add 10 to all values in an array:\n",
        "\n",
        "```python\n",
        "data = np.random.randn(5)\n",
        "print(data)\n",
        "print(data + 10)\n",
        "```\n",
        "\n",
        "Here is multiplying two arrays together: \n",
        "\n",
        "```python\n",
        "print(data )\n",
        "print(data * data)\n",
        "```\n",
        "\n"
      ]
    },
    {
      "metadata": {
        "id": "GNlkeFb4gdNB",
        "colab_type": "text"
      },
      "cell_type": "markdown",
      "source": [
        "**Exercises**: Modify the following arrays using the math operators  (+, -, *, /)"
      ]
    },
    {
      "metadata": {
        "id": "YL7Gcz6riHk3",
        "colab_type": "code",
        "colab": {
          "base_uri": "https://localhost:8080/",
          "height": 34
        },
        "outputId": "e80f1a14-3b99-4637-f5ea-a00d1bf5aa6c"
      },
      "cell_type": "code",
      "source": [
        "data = np.arange(-3, 5)\n",
        "data"
      ],
      "execution_count": 7,
      "outputs": [
        {
          "output_type": "execute_result",
          "data": {
            "text/plain": [
              "array([-3, -2, -1,  0,  1,  2,  3,  4])"
            ]
          },
          "metadata": {
            "tags": []
          },
          "execution_count": 7
        }
      ]
    },
    {
      "metadata": {
        "id": "qbxwK2fbgCDu",
        "colab_type": "text"
      },
      "cell_type": "markdown",
      "source": [
        "1. Multiply the data by 100"
      ]
    },
    {
      "metadata": {
        "id": "ZVnBgjboiNaE",
        "colab_type": "code",
        "colab": {}
      },
      "cell_type": "code",
      "source": [
        ""
      ],
      "execution_count": 0,
      "outputs": []
    },
    {
      "metadata": {
        "id": "jPgqsy1IiNt9",
        "colab_type": "text"
      },
      "cell_type": "markdown",
      "source": [
        "2. Add 40 to each value in the array."
      ]
    },
    {
      "metadata": {
        "id": "_5Sfk2BPiQtS",
        "colab_type": "code",
        "colab": {}
      },
      "cell_type": "code",
      "source": [
        ""
      ],
      "execution_count": 0,
      "outputs": []
    },
    {
      "metadata": {
        "id": "imSMnB0riRLv",
        "colab_type": "text"
      },
      "cell_type": "markdown",
      "source": [
        "3. Divide the numbers by 100"
      ]
    },
    {
      "metadata": {
        "id": "s2yAdtB5iU_S",
        "colab_type": "code",
        "colab": {}
      },
      "cell_type": "code",
      "source": [
        ""
      ],
      "execution_count": 0,
      "outputs": []
    },
    {
      "metadata": {
        "id": "3A41TFUSiXss",
        "colab_type": "text"
      },
      "cell_type": "markdown",
      "source": [
        "4. Subtract the data from itself."
      ]
    },
    {
      "metadata": {
        "id": "4GGICAy-id7t",
        "colab_type": "code",
        "colab": {}
      },
      "cell_type": "code",
      "source": [
        ""
      ],
      "execution_count": 0,
      "outputs": []
    },
    {
      "metadata": {
        "id": "uomV6dEciplB",
        "colab_type": "text"
      },
      "cell_type": "markdown",
      "source": [
        "## Extra Exercises"
      ]
    },
    {
      "metadata": {
        "id": "HZqr2Eq6iyoF",
        "colab_type": "text"
      },
      "cell_type": "markdown",
      "source": [
        "### Exercise: Other math functions"
      ]
    },
    {
      "metadata": {
        "id": "DFwChLniiyMe",
        "colab_type": "text"
      },
      "cell_type": "markdown",
      "source": [
        "1. Calculate the square of all the numbers from 0 to 8."
      ]
    },
    {
      "metadata": {
        "id": "fmDi3vaDi6-Y",
        "colab_type": "code",
        "colab": {}
      },
      "cell_type": "code",
      "source": [
        ""
      ],
      "execution_count": 0,
      "outputs": []
    },
    {
      "metadata": {
        "id": "l9cIn7KYi7Q3",
        "colab_type": "text"
      },
      "cell_type": "markdown",
      "source": [
        "2. Calculate the square roots of all the numbers from 0 to 8."
      ]
    },
    {
      "metadata": {
        "id": "0FK2dRjIi-zW",
        "colab_type": "code",
        "colab": {}
      },
      "cell_type": "code",
      "source": [
        ""
      ],
      "execution_count": 0,
      "outputs": []
    },
    {
      "metadata": {
        "id": "QzT4DbVcjEG2",
        "colab_type": "text"
      },
      "cell_type": "markdown",
      "source": [
        "3. Make an array of 20 values, all of them 2's."
      ]
    },
    {
      "metadata": {
        "id": "pNduEem7jLVa",
        "colab_type": "code",
        "colab": {}
      },
      "cell_type": "code",
      "source": [
        ""
      ],
      "execution_count": 0,
      "outputs": []
    },
    {
      "metadata": {
        "id": "TB70XLfvjrX-",
        "colab_type": "text"
      },
      "cell_type": "markdown",
      "source": [
        "4. Subtract the mean of the array from each element in the array (a.k.a. \"mean-centering\" the values)"
      ]
    },
    {
      "metadata": {
        "id": "k63kx1QnjslL",
        "colab_type": "code",
        "colab": {
          "base_uri": "https://localhost:8080/",
          "height": 87
        },
        "outputId": "b9300a20-590c-4164-8b35-4d6f651f847c"
      },
      "cell_type": "code",
      "source": [
        "data = np.random.randn(20)\n",
        "data"
      ],
      "execution_count": 8,
      "outputs": [
        {
          "output_type": "execute_result",
          "data": {
            "text/plain": [
              "array([-0.52881442,  0.2053102 , -0.62343832,  1.6985349 ,  1.31156082,\n",
              "        0.585077  , -1.4971368 , -0.58857981,  0.7222168 , -1.52160601,\n",
              "       -2.1574803 , -0.47017442, -1.17701195,  0.24355345, -1.29298196,\n",
              "       -0.12360317, -1.83561425, -0.49679985, -0.17241933,  1.43493667])"
            ]
          },
          "metadata": {
            "tags": []
          },
          "execution_count": 8
        }
      ]
    },
    {
      "metadata": {
        "id": "hPWZnQJlZ8Z3",
        "colab_type": "text"
      },
      "cell_type": "markdown",
      "source": [
        "### Translating Algorithms into Code"
      ]
    },
    {
      "metadata": {
        "id": "E5953XipZ8Z4",
        "colab_type": "text"
      },
      "cell_type": "markdown",
      "source": [
        "Calculate the standard deviation of an array's values, without using the numpy.std() function.  (Formula can be found here: http://www.mathsisfun.com/data/standard-deviation-formulas.html)"
      ]
    },
    {
      "metadata": {
        "id": "N9URKQmUZ8Z5",
        "colab_type": "text"
      },
      "cell_type": "markdown",
      "source": [
        "1. Work out the Mean (the simple average of the numbers)\n",
        "2. Then for each number: subtract the Mean and square the result\n",
        "3. Then work out the mean of those squared differences.\n",
        "4. Take the square root of that and we are done!\n"
      ]
    },
    {
      "metadata": {
        "id": "Rtkw7KeVZ8Z5",
        "colab_type": "code",
        "colab": {}
      },
      "cell_type": "code",
      "source": [
        "data = np.random.randn(100)\n"
      ],
      "execution_count": 0,
      "outputs": []
    }
  ]
}